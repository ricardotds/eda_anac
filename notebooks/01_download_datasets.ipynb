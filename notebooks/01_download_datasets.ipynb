{
 "cells": [
  {
   "cell_type": "markdown",
   "metadata": {},
   "source": [
    "# Personal project for storing useful EDA techniques"
   ]
  },
  {
   "cell_type": "markdown",
   "metadata": {},
   "source": [
    "## Dataset Download\n",
    "\n",
    "All the data is available at the Brazilian Transparency Portal for public download and is uploaded by ANAC"
   ]
  },
  {
   "cell_type": "markdown",
   "metadata": {},
   "source": [
    "### Dataset Lists\n",
    "\n",
    "root: https://sistemas.anac.gov.br/dadosabertos/\n",
    "\n",
    "- Registro Aeronáutico Brasileiro (RAB)\n",
    "\n",
    "    Metadata: https://www.gov.br/anac/pt-br/acesso-a-informacao/dados-abertos/areas-de-atuacao/aeronaves-1/registro-aeronautico-brasileiro-historico/metadados-registro-aeronautico-brasileiro-historico\n",
    "    \n",
    "    Dataset: https://sistemas.anac.gov.br/dadosabertos/Aeronaves/RAB/Historico_RAB/\n",
    "\n",
    "- Ocorrências Aeronáuticas\n",
    "    \n",
    "    Metadata: https://www.gov.br/anac/pt-br/acesso-a-informacao/dados-abertos/areas-de-atuacao/seguranca-operacional/ocorrencias-aeronauticas/metadados-do-conjunto-de-dados-ocorrencias-aeronauticas\n",
    "\n",
    "    Dataset: https://sistemas.anac.gov.br/dadosabertos/Seguranca%20Operacional/Ocorrencia/V_OCORRENCIA_AMPLA.csv\n",
    "\n",
    "- Percentuais de atrasos e cancelamentos\n",
    "\n",
    "    Metadata: https://www.gov.br/anac/pt-br/acesso-a-informacao/dados-abertos/areas-de-atuacao/voos-e-operacoes-aereas/percentuais-de-atrasos-e-cancelamentos/50-percentuais-de-atrasos-e-cancelamentos\n",
    "\n",
    "    Dataset: https://sistemas.anac.gov.br/dadosabertos/Voos%20e%20opera%C3%A7%C3%B5es%20a%C3%A9reas/Percentuais%20de%20atrasos%20e%20cancelamentos/\n",
    "\n",
    "- Processos Administrativos Relacionados a Aeronaves\n",
    "\n",
    "    Metadata: https://www.gov.br/anac/pt-br/acesso-a-informacao/dados-abertos/areas-de-atuacao/aeronaves-1/processos-administrativos-relacionados-a-aeronaves/metadados-aeronaves-processos-administrativos-relacionados-a-aeronaves\n",
    "\n",
    "    Dataset: https://sistemas.anac.gov.br/dadosabertos/Aeronaves/ProcessosAdministrativosRelacionadosaAeronaves/\n",
    "\n",
    "- Voo Regular Ativo (VRA)\n",
    "\n",
    "    Metadata: https://www.gov.br/anac/pt-br/acesso-a-informacao/dados-abertos/areas-de-atuacao/voos-e-operacoes-aereas/voo-regular-ativo-vra/62-voo-regular-ativo-vra\n",
    "\n",
    "    Dataset: https://siros.anac.gov.br/siros/registros/diversos/vra/\n",
    "\n",
    "- Recomendações de Segurança Aeronáutica\n",
    "\n",
    "    Metadata: https://www.gov.br/anac/pt-br/acesso-a-informacao/dados-abertos/areas-de-atuacao/seguranca-operacional/recomendacoes-de-seguranca-aeronautica/metadados-seguranca-operacional-recomendacoes-de-seguranca-aeronautica\n",
    "\n",
    "    Dataset: https://sistemas.anac.gov.br/dadosabertos/Seguranca%20Operacional/Recomenda%C3%A7%C3%A3o%20de%20Seguran%C3%A7a/\n",
    "\n",
    "Boeing 737 Max\n",
    "\n",
    "2010s\n",
    "\n",
    "October 29, 2018: Lion Air Flight 610, a 737 MAX 8 (registration PK-LQP), on a flight from Jakarta, Indonesia to Pangkal Pinang, Indonesia, crashed into the sea 13 minutes after takeoff, with 189 people on board the aircraft: 181 passengers (178 adults and three children), as well as six cabin crew and two pilots. All on board died. This is the deadliest air accident involving all variants of the Boeing 737 and also the first accident involving the Boeing 737 MAX.[168][169][170]\n",
    "\n",
    "\n",
    "March 10, 2019: Ethiopian Airlines Flight 302, a 737 MAX 8 (registration ET-AVJ), on a flight from Addis Ababa Bole International Airport, Ethiopia to Jomo Kenyatta International Airport in Nairobi, Kenya, crashed six minutes after takeoff; all 157 people aboard (149 passengers and 8 crew members) died. The plane was only four months old at the time of the accident.[171] In response, numerous aviation authorities around the world grounded the 737 MAX series, and many airlines followed suit on a voluntary basis. On March 13, 2019, the FAA became the last authority to ground the aircraft, reversing its previous stance that the MAX was safe to fly.[172]\n",
    "\n",
    "\n",
    "2020s\n",
    "\n",
    "December 4, 2023: Ryanair flight FR1269, a 737 MAX 200 landing at Stansted Airport dropped more than 2000 ft in only 17 seconds. The airline is reportedly coopearing with AAIB. This serious incident is stil under investigation.[173]\n",
    "\n",
    "\n",
    "January 5, 2024: Alaska Airlines Flight 1282, a 737 MAX 9 (registration N704AL), on a flight from Portland, Oregon to Ontario, California, experienced an explosive decompression shortly after take off, after the loss of incorrectly installed door plug. The aircraft returned to Portland and landed. Some on board sustained minor injuries, but there were no deaths. The type was subsequently grounded for nearly a month.[174]\n",
    "\n",
    "\n",
    "May 25, 2024: Southwest Airlines Flight 746 experienced \"an uncontrolled side to side yawing motion\" called a Dutch roll at an elevation of 32,000 feet less than an hour after departing from Phoenix. The pilots were able to safely land the plane in Oakland. FAA investigations showed that a Passenger Controller Unit for backup power control responsible for controlling tail rudder movements was damaged.[175]\n",
    "\n",
    "\n",
    "June 23, 2024 : Korean Air Flight 189, a 737 MAX 8 departing from Incheon International Airport (RKSI) bounded for Taiwan, experienced a fault with the cabin pressurization system roughly 30 minutes into the flight. At the time, the aircraft was flying over South Korea’s southern Jeju Island, per Yonhap. The pilots were forced to turn back, dropping 25,000 ft in five minutes, resulting in 15 passengers reporting injuries of hyperventilation and eardrum pain. A Korean Air spokesperson added that the aircraft was just under 5 years old and was delivered to Korean Air in July 2022.[176] Investigations into this incident are ongoing."
   ]
  },
  {
   "cell_type": "markdown",
   "metadata": {},
   "source": []
  }
 ],
 "metadata": {
  "kernelspec": {
   "display_name": ".venv",
   "language": "python",
   "name": "python3"
  },
  "language_info": {
   "name": "python",
   "version": "3.12.4"
  }
 },
 "nbformat": 4,
 "nbformat_minor": 2
}
